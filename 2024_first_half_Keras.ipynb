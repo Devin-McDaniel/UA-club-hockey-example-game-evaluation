{
  "cells": [
    {
      "cell_type": "code",
      "execution_count": 24,
      "metadata": {
        "id": "tlG590z_ZvGH"
      },
      "outputs": [],
      "source": [
        "import os\n",
        "\n",
        "os.environ[\"KERAS_BACKEND\"] = \"tensorflow\"\n",
        "\n",
        "import tensorflow as tf\n",
        "import pandas as pd\n",
        "import keras\n",
        "from keras.utils import FeatureSpace\n",
        "from sklearn.preprocessing import LabelEncoder\n",
        "import matplotlib.pyplot as plt\n",
        "import seaborn as sns\n",
        "import numpy as np\n",
        "import re"
      ]
    },
    {
      "cell_type": "markdown",
      "source": [
        "# Data Prep"
      ],
      "metadata": {
        "id": "mAVujFIXs7L7"
      }
    },
    {
      "cell_type": "code",
      "execution_count": 2,
      "metadata": {
        "id": "B9awoHmRgbEI"
      },
      "outputs": [],
      "source": [
        "shots_df = pd.read_csv('/content/combined_games/shots_23-24.csv') #import data\n",
        "shots_df = shots_df[shots_df['shotWasOnGoal'] != 0] #removed misses\n",
        "shots_df = shots_df[['arenaAdjustedXCordABS','arenaAdjustedYCordAbs','goal', 'shotType','shotRebound']] #reduced to data points of interest"
      ]
    },
    {
      "cell_type": "code",
      "execution_count": 3,
      "metadata": {
        "id": "LtQ5FeQAxFMo"
      },
      "outputs": [],
      "source": [
        "# Replace 'SNAP' and 'WRAP' with 'WRIST'\n",
        "shots_df['shotType'] = shots_df['shotType'].replace(['SNAP', 'WRAP'], 'WRIST')\n",
        "\n",
        "# Replace 'DEFL' with 'TIP'\n",
        "shots_df['shotType'] = shots_df['shotType'].replace('DEFL', 'TIP')"
      ]
    },
    {
      "cell_type": "code",
      "execution_count": 4,
      "metadata": {
        "id": "Gwu2ZMVDlqOM"
      },
      "outputs": [],
      "source": [
        "encoder = LabelEncoder()\n",
        "shots_df['shotType'] = shots_df['shotType'].astype(str)\n",
        "shots_df['shotType'] = encoder.fit_transform(shots_df['shotType'])"
      ]
    },
    {
      "cell_type": "code",
      "execution_count": 5,
      "metadata": {
        "id": "Vat0UIUolvbF"
      },
      "outputs": [],
      "source": [
        "val_shots_df = shots_df.sample(frac=0.2)\n",
        "train_shots_df = shots_df.drop(val_shots_df.index)"
      ]
    },
    {
      "cell_type": "code",
      "execution_count": 7,
      "metadata": {
        "id": "qkYihlxMlxch"
      },
      "outputs": [],
      "source": [
        "def dataframe_to_dataset(shots_df):\n",
        "    shots_df = shots_df.copy()\n",
        "    labels = shots_df.pop(\"goal\")\n",
        "    ds = tf.data.Dataset.from_tensor_slices((dict(shots_df), labels))\n",
        "    ds = ds.shuffle(buffer_size=len(shots_df))\n",
        "    return ds\n",
        "train_ds = dataframe_to_dataset(train_shots_df)\n",
        "val_ds = dataframe_to_dataset(val_shots_df)\n",
        "train_ds = train_ds.batch(32)\n",
        "val_ds = val_ds.batch(32)"
      ]
    },
    {
      "cell_type": "code",
      "execution_count": 8,
      "metadata": {
        "id": "ylJ7acuJmJs8"
      },
      "outputs": [],
      "source": [
        "feature_space = FeatureSpace(\n",
        "    features={\n",
        "        \"shotType\": \"integer_categorical\",\n",
        "        \"shotRebound\": \"integer_categorical\",\n",
        "        \"arenaAdjustedXCordABS\": \"float_normalized\",\n",
        "        \"arenaAdjustedYCordAbs\": \"float_normalized\",\n",
        "    },\n",
        "    output_mode=\"concat\",\n",
        ")"
      ]
    },
    {
      "cell_type": "code",
      "execution_count": 9,
      "metadata": {
        "id": "Boxnh-3SqLJt"
      },
      "outputs": [],
      "source": [
        "train_ds_with_no_labels = train_ds.map(lambda x, _: x)\n",
        "feature_space.adapt(train_ds_with_no_labels)"
      ]
    },
    {
      "cell_type": "code",
      "execution_count": 10,
      "metadata": {
        "id": "NJV87SmwqT5l"
      },
      "outputs": [],
      "source": [
        "for x, _ in train_ds.take(1):\n",
        "    preprocessed_x = feature_space(x)"
      ]
    },
    {
      "cell_type": "code",
      "execution_count": 11,
      "metadata": {
        "id": "pFNc-sQIrPa9"
      },
      "outputs": [],
      "source": [
        "preprocessed_train_ds = train_ds.map(\n",
        "    lambda x, y: (feature_space(x), y), num_parallel_calls=tf.data.AUTOTUNE\n",
        ")\n",
        "preprocessed_train_ds = preprocessed_train_ds.prefetch(tf.data.AUTOTUNE)\n",
        "\n",
        "preprocessed_val_ds = val_ds.map(\n",
        "    lambda x, y: (feature_space(x), y), num_parallel_calls=tf.data.AUTOTUNE\n",
        ")\n",
        "preprocessed_val_ds = preprocessed_val_ds.prefetch(tf.data.AUTOTUNE)"
      ]
    },
    {
      "cell_type": "markdown",
      "source": [
        "# Model Training"
      ],
      "metadata": {
        "id": "M99RSP7bsZ0w"
      }
    },
    {
      "cell_type": "code",
      "execution_count": 12,
      "metadata": {
        "id": "0kAHqRvNrkv3"
      },
      "outputs": [],
      "source": [
        "dict_inputs = feature_space.get_inputs()\n",
        "encoded_features = feature_space.get_encoded_features()\n",
        "\n",
        "x = keras.layers.Dense(32, activation=\"relu\")(encoded_features)\n",
        "x = keras.layers.Dropout(0.2)(x)\n",
        "predictions = keras.layers.Dense(1, activation=\"sigmoid\")(x)\n",
        "\n",
        "training_model = keras.Model(inputs=encoded_features, outputs=predictions)\n",
        "training_model.compile(\n",
        "    optimizer=\"adam\", loss=\"binary_crossentropy\", metrics=[\"accuracy\"]\n",
        ")\n",
        "\n",
        "shot_evaluator = keras.Model(inputs=dict_inputs, outputs=predictions)"
      ]
    },
    {
      "cell_type": "code",
      "execution_count": 13,
      "metadata": {
        "colab": {
          "base_uri": "https://localhost:8080/"
        },
        "id": "xLjkvu2arp4N",
        "outputId": "fcd6ab71-bf58-4e21-c8c1-33362b981ca9"
      },
      "outputs": [
        {
          "output_type": "execute_result",
          "data": {
            "text/plain": [
              "<keras.src.callbacks.history.History at 0x7c6b67b5ca90>"
            ]
          },
          "metadata": {},
          "execution_count": 13
        }
      ],
      "source": [
        "training_model.fit(\n",
        "    preprocessed_train_ds,\n",
        "    epochs=20,\n",
        "    validation_data=preprocessed_val_ds,\n",
        "    verbose=0,\n",
        ")"
      ]
    },
    {
      "cell_type": "code",
      "execution_count": 33,
      "metadata": {
        "colab": {
          "base_uri": "https://localhost:8080/"
        },
        "id": "VrbPEgTos6aK",
        "outputId": "626a4886-6e2c-451a-f21a-53fab8866ab2"
      },
      "outputs": [
        {
          "output_type": "stream",
          "name": "stdout",
          "text": [
            "{'BACK': np.int64(0), 'SLAP': np.int64(1), 'TIP': np.int64(2), 'WRIST': np.int64(3), 'nan': np.int64(4)}\n"
          ]
        }
      ],
      "source": [
        "shot_type_mapping = dict(zip(encoder.classes_, encoder.transform(encoder.classes_)))\n",
        "\n",
        "print(shot_type_mapping)"
      ]
    },
    {
      "cell_type": "code",
      "execution_count": 35,
      "metadata": {
        "colab": {
          "base_uri": "https://localhost:8080/"
        },
        "id": "O4hYXfRdseUm",
        "outputId": "359b1643-0bbf-4b34-efcf-8008745662a5"
      },
      "outputs": [
        {
          "output_type": "stream",
          "name": "stdout",
          "text": [
            "\u001b[1m1/1\u001b[0m \u001b[32m━━━━━━━━━━━━━━━━━━━━\u001b[0m\u001b[37m\u001b[0m \u001b[1m0s\u001b[0m 37ms/step\n",
            "This shot has a 23.49% chance of going in.\n"
          ]
        }
      ],
      "source": [
        "sample = {\n",
        "   'shotType': 3,\n",
        "   'shotRebound': 0,\n",
        "   'arenaAdjustedXCordABS': 85,\n",
        "   'arenaAdjustedYCordAbs': 0\n",
        "}\n",
        "\n",
        "input_dict = {name: tf.convert_to_tensor([value]) for name, value in sample.items()}\n",
        "predictions = shot_evaluator.predict(input_dict)\n",
        "\n",
        "print(\n",
        "    f\"This shot has a {100 * predictions[0][0]:.2f}% chance of going in.\"\n",
        ")"
      ]
    },
    {
      "cell_type": "markdown",
      "source": [
        "# Game Scoring Helper Functions"
      ],
      "metadata": {
        "id": "t6EypT2R1uV0"
      }
    },
    {
      "cell_type": "code",
      "source": [
        "def load_shot_data(csv_path_or_content):\n",
        "    #Load shot data from either a file path or CSV content string\n",
        "    try:\n",
        "        df = pd.read_csv(csv_path_or_content)\n",
        "    except (FileNotFoundError, pd.errors.EmptyDataError):\n",
        "        lines = csv_path_or_content.strip().split('\\n')\n",
        "        if not lines:\n",
        "            raise ValueError(\"Empty CSV content\")\n",
        "\n",
        "        columns = lines[0].split(',')\n",
        "        data = []\n",
        "        for line in lines[1:]:\n",
        "            values = line.split(',')\n",
        "            if len(values) == len(columns):\n",
        "                row = {col: val for col, val in zip(columns, values)}\n",
        "                data.append(row)\n",
        "\n",
        "        df = pd.DataFrame(data)\n",
        "\n",
        "    required_columns = ['Team', 'Player', 'arenaAdjustedXCordABS', 'arenaAdjustedYCordABS',\n",
        "                         'shotType', 'shotRebound', 'event']\n",
        "\n",
        "    for required_col in required_columns:\n",
        "        col_found = False\n",
        "        for col in df.columns:\n",
        "            if col.lower() == required_col.lower():\n",
        "                if col != required_col:\n",
        "                    df = df.rename(columns={col: required_col})\n",
        "                col_found = True\n",
        "                break\n",
        "\n",
        "        if not col_found:\n",
        "            raise ValueError(f\"Required column '{required_col}' is missing from the data\")\n",
        "\n",
        "    # Convert numeric columns to appropriate types\n",
        "    numeric_cols = ['arenaAdjustedXCordABS', 'arenaAdjustedYCordABS', 'shotRebound']\n",
        "    for col in numeric_cols:\n",
        "        if col in df.columns:\n",
        "            df[col] = pd.to_numeric(df[col], errors='coerce')\n",
        "\n",
        "    return df"
      ],
      "metadata": {
        "id": "1HyyWxaF1yQr"
      },
      "execution_count": 62,
      "outputs": []
    },
    {
      "cell_type": "code",
      "source": [
        "# Extract UA players from player column\n",
        "def extract_ua_players(player_str):\n",
        "    return [p for p in re.split(r'\\s+', player_str) if p.strip()]"
      ],
      "metadata": {
        "id": "Ylj-_-dE12_N"
      },
      "execution_count": 63,
      "outputs": []
    },
    {
      "cell_type": "code",
      "source": [
        "def predict_shot_probability(model, shot_data):\n",
        "    shot_type = shot_data.get('shotType', shot_data.get('SHOTTYPE', 'WRIST'))\n",
        "\n",
        "    shot_rebound = int(shot_data.get('shotRebound', shot_data.get('SHOTREBOUND', 0)))\n",
        "    x_coord = float(shot_data.get('arenaAdjustedXCordABS', shot_data.get('ARENAADJUSTEDXCORDABS', 0)))\n",
        "    y_coord = abs(float(shot_data.get('arenaAdjustedYCordAbs',\n",
        "                              shot_data.get('arenaAdjustedYCordABS',\n",
        "                                    shot_data.get('ARENAADJUSTEDYCORDABS', 0)))))\n",
        "\n",
        "    # Map shotType string to numeric value using mapping\n",
        "    if isinstance(shot_type, str):\n",
        "        shot_type_value = shot_type_mapping.get(shot_type, 0)\n",
        "    else:\n",
        "        shot_type_value = int(shot_type)\n",
        "\n",
        "    sample = {\n",
        "        'shotType': shot_type_value,\n",
        "        'shotRebound': shot_rebound,\n",
        "        'arenaAdjustedXCordABS': x_coord,\n",
        "        'arenaAdjustedYCordAbs': y_coord\n",
        "    }\n",
        "\n",
        "    # Convert to tensor\n",
        "    input_dict = {name: tf.convert_to_tensor([value]) for name, value in sample.items()}\n",
        "\n",
        "\n",
        "    predictions = model.predict(input_dict, verbose=0)\n",
        "\n",
        "    # Return probability as a float\n",
        "    return float(predictions[0][0])"
      ],
      "metadata": {
        "id": "fZVlAJ2-2D4M"
      },
      "execution_count": 64,
      "outputs": []
    },
    {
      "cell_type": "code",
      "source": [
        "def analyze_expected_goals(shot_data, model):\n",
        "    required_columns = ['Team', 'Player', 'arenaAdjustedXCordABS', 'arenaAdjustedYCordABS',\n",
        "                        'shotType', 'shotRebound', 'event']\n",
        "\n",
        "    for col in required_columns:\n",
        "        if col not in shot_data.columns:\n",
        "            raise ValueError(f\"Required column '{col}' is missing from the data\")\n",
        "\n",
        "\n",
        "    shot_data = shot_data.copy()\n",
        "\n",
        "\n",
        "    shot_data['xG'] = 0.0\n",
        "\n",
        "    for idx, row in shot_data.iterrows():\n",
        "        try:\n",
        "            shot_data.at[idx, 'xG'] = predict_shot_probability(model, row)\n",
        "        except Exception as e:\n",
        "            print(f\"Error predicting for row {idx}: {e}\")\n",
        "            shot_data.at[idx, 'xG'] = 0.0\n",
        "\n",
        "    # Convert actual goals to binary\n",
        "    shot_data['actualGoal'] = shot_data['event'].apply(lambda x: 1 if x.lower() == 'goal' else 0)\n",
        "\n",
        "    # Extract all unique UA players\n",
        "    all_ua_players = set()\n",
        "    for player_str in shot_data['Player']:\n",
        "        players = extract_ua_players(str(player_str))\n",
        "        all_ua_players.update(players)\n",
        "\n",
        "\n",
        "    player_stats = {player: {'xGF': 0, 'xGA': 0, 'GF': 0, 'GA': 0, 'TOI': 0} for player in all_ua_players}\n",
        "\n",
        "    # Calculate expected goals for and against each UA player\n",
        "    for _, shot in shot_data.iterrows():\n",
        "        team = shot['Team']\n",
        "        xg = shot['xG']\n",
        "        actual_goal = shot['actualGoal']\n",
        "\n",
        "        # Get all UA players on ice for this shot\n",
        "        ua_players_on_ice = extract_ua_players(str(shot['Player']))\n",
        "\n",
        "        for player in ua_players_on_ice:\n",
        "            player_stats[player]['TOI'] += 1\n",
        "\n",
        "        # Update expected goals stats based on which team took the shot\n",
        "        if team == 'UA':  # UA taking the shot (for)\n",
        "            for player in ua_players_on_ice:\n",
        "                player_stats[player]['xGF'] += xg\n",
        "                player_stats[player]['GF'] += actual_goal\n",
        "        else:  # UAH taking the shot (against)\n",
        "            for player in ua_players_on_ice:\n",
        "                player_stats[player]['xGA'] += xg\n",
        "                player_stats[player]['GA'] += actual_goal\n",
        "\n",
        "    # Convert to DataFrame with explicit columns to avoid errors\n",
        "    columns = ['player', 'xGF', 'xGA', 'GF', 'GA', 'TOI']\n",
        "    rows = []\n",
        "    for player, stats in player_stats.items():\n",
        "        rows.append([player, stats['xGF'], stats['xGA'], stats['GF'], stats['GA'], stats['TOI']])\n",
        "\n",
        "    result_df = pd.DataFrame(rows, columns=columns)\n",
        "\n",
        "    # Calculate net expected goals\n",
        "    result_df['Net_xG'] = result_df['xGF'] - result_df['xGA']\n",
        "    result_df['Net_G'] = result_df['GF'] - result_df['GA']\n",
        "\n",
        "    # Calculate xG percentage: xGF / (xGF + xGA)\n",
        "    result_df['xG_pct'] = (result_df['xGF'] / (result_df['xGF'] + result_df['xGA']).replace(0, 0.00001) * 100).round(1)\n",
        "\n",
        "    # Calculate per-appearance rates (avoid division by zero)\n",
        "    result_df['xGF_per_TOI'] = (result_df['xGF'] / result_df['TOI'].replace(0, 1)).round(3)\n",
        "    result_df['xGA_per_TOI'] = (result_df['xGA'] / result_df['TOI'].replace(0, 1)).round(3)\n",
        "    result_df['Net_xG_per_TOI'] = (result_df['Net_xG'] / result_df['TOI'].replace(0, 1)).round(3)\n",
        "\n",
        "    # Sort by Net_xG\n",
        "    result_df = result_df.sort_values(by=['Net_xG'], ascending=False)\n",
        "\n",
        "    return result_df, shot_data"
      ],
      "metadata": {
        "id": "kekNIOgb5wTz"
      },
      "execution_count": 80,
      "outputs": []
    },
    {
      "cell_type": "code",
      "source": [
        "def output_summary(csv_path_or_content, model):\n",
        "    shot_data = load_shot_data(csv_path_or_content)\n",
        "\n",
        "    print(\"Columns in loaded data:\", shot_data.columns.tolist())\n",
        "\n",
        "    if 'arenaAdjustedYCordAbs' not in shot_data.columns and 'arenaAdjustedYCordABS' in shot_data.columns:\n",
        "        shot_data['arenaAdjustedYCordAbs'] = shot_data['arenaAdjustedYCordABS']\n",
        "\n",
        "    player_xg_stats, enriched_shot_data = analyze_expected_goals(shot_data, model)\n",
        "\n",
        "    print(\"\\nUA Player Expected Goals Summary:\")\n",
        "    print(\"--------------------------------\")\n",
        "    # Print DataFrame without index\n",
        "    blankIndex=[''] * len(player_xg_stats)\n",
        "    player_xg_stats.index=blankIndex\n",
        "\n",
        "    print(player_xg_stats[['player', 'xGF', 'xGA', 'Net_xG', 'GF', 'GA', 'Net_G', 'xG_pct','TOI']])\n",
        "\n",
        "    team_totals = enriched_shot_data.groupby('Team').agg(\n",
        "        Total_xG=('xG', 'sum'),\n",
        "        Total_Goals=('actualGoal', 'sum'),\n",
        "        Total_Shots=('xG', 'count')\n",
        "    ).reset_index()\n",
        "\n",
        "    print(\"\\nTeam Totals:\")\n",
        "    print(team_totals)\n",
        "\n",
        "    print(\"\\nTop UA Players by Expected Goals For:\")\n",
        "    print(player_xg_stats.sort_values(by='xGF', ascending=False)[['player', 'xGF', 'GF', 'TOI', 'xGF_per_TOI']].head(5))\n",
        "\n",
        "    print(\"\\nTop UA Players by Expected Goals Against (Lower is Better):\")\n",
        "    print(player_xg_stats.sort_values(by='xGA_per_TOI', ascending=True)[['player', 'xGA', 'GA', 'TOI', 'xGA_per_TOI']].head(5))\n",
        "\n",
        "    # Best overall players by net xG per TOI- TOI calculated by proxy from shots while on\n",
        "    print(\"\\nTop UA Players by Net Expected Goals per TOI:\")\n",
        "    print(player_xg_stats.sort_values(by='Net_xG_per_TOI', ascending=False)[['player', 'Net_xG', 'Net_G', 'TOI', 'Net_xG_per_TOI']].head(5))\n",
        "\n",
        "     # Best overall players by xG percentage\n",
        "    print(\"\\nTop UA Players by Expected Goals Percentage (xG%):\")\n",
        "    print(player_xg_stats.sort_values(by='xG_pct', ascending=False)[['player', 'xGF', 'xGA', 'xG_pct', 'TOI']].head(5))\n",
        "    return player_xg_stats"
      ],
      "metadata": {
        "id": "Q1tFX2PE3LVZ"
      },
      "execution_count": 84,
      "outputs": []
    },
    {
      "cell_type": "code",
      "source": [
        "def plot_top_xg_percentage(player_stats_df, num_players=5, figsize=(10, 6), title=\"Top Players by Expected Goals Percentage\"):\n",
        "    # Sort by xG percentage and get top players\n",
        "    top_players = player_stats_df.sort_values(by='xG_pct', ascending=False).head(num_players)\n",
        "\n",
        "    # Create figure and axis\n",
        "    fig, ax = plt.subplots(figsize=figsize)\n",
        "\n",
        "    colors = sns.color_palette(\"Blues\", len(top_players))\n",
        "\n",
        "    bars = ax.bar(\n",
        "        top_players['player'],\n",
        "        top_players['xG_pct'],\n",
        "        color=colors,\n",
        "        width=0.6\n",
        "    )\n",
        "\n",
        "    for bar in bars:\n",
        "        height = bar.get_height()\n",
        "        ax.text(\n",
        "            bar.get_x() + bar.get_width()/2.,\n",
        "            height + 1,  # Position slightly above the bar\n",
        "            f'{height:.1f}%',\n",
        "            ha='center',\n",
        "            va='bottom',\n",
        "            fontweight='bold'\n",
        "        )\n",
        "\n",
        "\n",
        "    # Customize the plot\n",
        "    ax.set_title(title, fontsize=16, pad=20)\n",
        "    ax.set_xlabel('Player Number', fontsize=12, labelpad=15)\n",
        "    ax.set_ylabel('Expected Goals Percentage (%)', fontsize=12)\n",
        "\n",
        "\n",
        "    max_value = top_players['xG_pct'].max()\n",
        "    ax.set_ylim(0, max_value * 1.15)  # Add 15% padding at the top\n",
        "\n",
        "    # Add a horizontal line at 50% for reference\n",
        "    ax.axhline(y=50, color='red', linestyle='--', alpha=0.7, linewidth=1)\n",
        "    ax.text(len(top_players)-1, 51, '50%', color='red', ha='right', fontsize=10)\n",
        "\n",
        "\n",
        "    ax.spines['top'].set_visible(False)\n",
        "    ax.spines['right'].set_visible(False)\n",
        "\n",
        "    # Add a light grid for better readability\n",
        "    ax.grid(axis='y', linestyle='--', alpha=0.3)\n",
        "\n",
        "    # Adjust bottom margin to make room for TOI text\n",
        "    plt.subplots_adjust(bottom=0.15)\n",
        "\n",
        "    plt.tight_layout()\n",
        "\n",
        "    return fig"
      ],
      "metadata": {
        "id": "wJyeTBFLBvUo"
      },
      "execution_count": 87,
      "outputs": []
    },
    {
      "cell_type": "markdown",
      "source": [
        "# Game Scoring: UA vs. UT"
      ],
      "metadata": {
        "id": "RnxIl-58tDzo"
      }
    },
    {
      "cell_type": "code",
      "source": [
        "stats = output_summary('/content/individual_games/UA vs UAH 10-28.csv', shot_evaluator)"
      ],
      "metadata": {
        "colab": {
          "base_uri": "https://localhost:8080/"
        },
        "id": "HlAMXkcZ22T1",
        "outputId": "feea2c30-64c0-42a0-d864-1576973cbab7"
      },
      "execution_count": 85,
      "outputs": [
        {
          "output_type": "stream",
          "name": "stdout",
          "text": [
            "Columns in loaded data: ['Team', 'Player', 'arenaAdjustedXCordABS', 'arenaAdjustedYCordABS', 'Distance', 'event', 'shotType', 'shotRebound']\n",
            "\n",
            "UA Player Expected Goals Summary:\n",
            "--------------------------------\n",
            " player       xGF       xGA    Net_xG  GF  GA  Net_G  xG_pct  TOI\n",
            "     24  2.224629  0.555219  1.669410   3   0      3    80.0   23\n",
            "     88  1.559712  0.122894  1.436818   2   0      2    92.7   16\n",
            "     27  1.892703  0.517702  1.375002   3   0      3    78.5   18\n",
            "     61  1.302633  0.039451  1.263181   3   0      3    97.1   11\n",
            "     19  2.224629  1.013605  1.211023   3   0      3    68.7   27\n",
            "     67  1.405271  0.381428  1.023843   2   0      2    78.7   17\n",
            "     23  1.846435  0.892933  0.953502   3   0      3    67.4   21\n",
            "      3  1.557702  0.610688  0.947014   2   0      2    71.8   18\n",
            "      9  1.606969  0.770516  0.836453   2   0      2    67.6   20\n",
            "     10  1.667790  0.853870  0.813920   2   0      2    66.1   19\n",
            "     22  1.383321  0.610688  0.772633   2   0      2    69.4   16\n",
            "     26  1.065864  0.371668  0.694196   2   0      2    74.1   11\n",
            "     12  1.096251  0.443896  0.652355   3   0      3    71.2   14\n",
            "     13  0.632873  0.039451  0.593422   2   0      2    94.1    5\n",
            "      2  0.846924  0.324634  0.522289   2   0      2    72.3   10\n",
            "     96  1.028635  0.535135  0.493500   1   0      1    65.8   11\n",
            "     16  1.099478  0.696644  0.402834   2   0      2    61.2   14\n",
            "     81  0.925844  0.535135  0.390709   2   0      2    63.4   11\n",
            "      5  0.979302  0.714226  0.265076   3   0      3    57.8   12\n",
            "      7  1.522379  1.280811  0.241567   3   0      3    54.3   18\n",
            "\n",
            "Team Totals:\n",
            "  Team  Total_xG  Total_Goals  Total_Shots\n",
            "0   UA  5.807556           10           42\n",
            "1  UAH  2.645664            0           24\n",
            "\n",
            "Top UA Players by Expected Goals For:\n",
            " player       xGF  GF  TOI  xGF_per_TOI\n",
            "     24  2.224629   3   23        0.097\n",
            "     19  2.224629   3   27        0.082\n",
            "     27  1.892703   3   18        0.105\n",
            "     23  1.846435   3   21        0.088\n",
            "     10  1.667790   2   19        0.088\n",
            "\n",
            "Top UA Players by Expected Goals Against (Lower is Better):\n",
            " player       xGA  GA  TOI  xGA_per_TOI\n",
            "     61  0.039451   0   11        0.004\n",
            "     88  0.122894   0   16        0.008\n",
            "     13  0.039451   0    5        0.008\n",
            "     67  0.381428   0   17        0.022\n",
            "     24  0.555219   0   23        0.024\n",
            "\n",
            "Top UA Players by Net Expected Goals per TOI:\n",
            " player    Net_xG  Net_G  TOI  Net_xG_per_TOI\n",
            "     13  0.593422      2    5           0.119\n",
            "     61  1.263181      3   11           0.115\n",
            "     88  1.436818      2   16           0.090\n",
            "     27  1.375002      3   18           0.076\n",
            "     24  1.669410      3   23           0.073\n",
            "\n",
            "Top UA Players by Expected Goals Percentage (xG%):\n",
            " player       xGF       xGA  xG_pct  TOI\n",
            "     61  1.302633  0.039451    97.1   11\n",
            "     13  0.632873  0.039451    94.1    5\n",
            "     88  1.559712  0.122894    92.7   16\n",
            "     24  2.224629  0.555219    80.0   23\n",
            "     67  1.405271  0.381428    78.7   17\n"
          ]
        }
      ]
    },
    {
      "cell_type": "code",
      "source": [
        "xgplot = plot_top_xg_percentage(stats)\n",
        "plt.show()"
      ],
      "metadata": {
        "colab": {
          "base_uri": "https://localhost:8080/",
          "height": 605
        },
        "id": "dkwlademCWMI",
        "outputId": "19ccef3d-25fc-4e90-a940-23bedb893357"
      },
      "execution_count": 88,
      "outputs": [
        {
          "output_type": "display_data",
          "data": {
            "text/plain": [
              "<Figure size 1000x600 with 1 Axes>"
            ],
            "image/png": "[encoded data removed]"
          },
          "metadata": {}
        }
      ]
    }
  ],
  "metadata": {
    "colab": {
      "provenance": [],
      "collapsed_sections": [
        "mAVujFIXs7L7",
        "M99RSP7bsZ0w",
        "t6EypT2R1uV0",
        "RnxIl-58tDzo"
      ],
      "gpuType": "T4"
    },
    "kernelspec": {
      "display_name": "Python 3",
      "name": "python3"
    },
    "language_info": {
      "codemirror_mode": {
        "name": "ipython",
        "version": 3
      },
      "file_extension": ".py",
      "mimetype": "text/x-python",
      "name": "python",
      "nbconvert_exporter": "python",
      "pygments_lexer": "ipython3",
      "version": "3.11.9"
    },
    "accelerator": "GPU"
  },
  "nbformat": 4,
  "nbformat_minor": 0
}